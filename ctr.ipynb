{
 "cells": [
  {
   "cell_type": "code",
   "execution_count": 1,
   "metadata": {
    "collapsed": true
   },
   "outputs": [
    {
     "name": "stderr",
     "output_type": "stream",
     "text": [
      "/Users/victorialokteva/LLM-test-task/venv/lib/python3.11/site-packages/pydantic/_internal/_fields.py:149: UserWarning: Field \"model_paths\" has conflict with protected namespace \"model_\".\n",
      "\n",
      "You may be able to resolve this warning by setting `model_config['protected_namespaces'] = ()`.\n",
      "  warnings.warn(\n"
     ]
    }
   ],
   "source": [
    "%load_ext autoreload\n",
    "%autoreload 2\n",
    "\n",
    "from ml.preprocessing import DataPreprocessor\n",
    "\n",
    "import warnings\n",
    "\n",
    "import pandas as pd\n",
    "\n",
    "pd.options.display.max_columns, pd.options.display.max_rows = 5000, 500\n",
    "pd.options.display.float_format = '{:.3f}'.format\n",
    "warnings.filterwarnings(\"ignore\")"
   ]
  },
  {
   "cell_type": "code",
   "execution_count": 2,
   "outputs": [],
   "source": [
    "data = DataPreprocessor().preprocessing()"
   ],
   "metadata": {
    "collapsed": false
   }
  },
  {
   "cell_type": "code",
   "execution_count": 3,
   "outputs": [
    {
     "data": {
      "text/plain": "                                    uid  fc_imp_chk  fc_time_chk  utmtr  \\\n0  00000000-0000-0001-6268-957597321099           0            7      6   \n1  00000000-0000-0001-6268-957946481763           0            7      6   \n2  00000000-0000-0001-6268-958052831367           0            7      6   \n3  00000000-0000-0001-6268-958153731939           0            7      6   \n4  00000000-0000-0001-6268-959263331420           0            7      6   \n\n   mm_dma   osName     model      hardware         site_id            tag  \\\n0     517  Android  SM-N960U  Mobile Phone  dotesports.com       vcontent   \n1     505  Android  Pixel 4a  Mobile Phone           other  vregistration   \n2     501      iOS    iPhone  Mobile Phone           other  vregistration   \n3     517  Android  SM-G991U  Mobile Phone           other  vregistration   \n4     517  Android  SM-N975U  Mobile Phone           other  vregistration   \n\n  domain  is_sport_site  is_travel_site  is_weather_site  is_game_site  \\\n0    com           True           False            False         False   \n1  other          False           False            False         False   \n2  other          False           False            False         False   \n3  other          False           False            False         False   \n4  other          False           False            False         False   \n\n   is_music_site  is_cook_site  is_health_site  is_zodiac_site  year  month  \\\n0          False         False           False           False  2021      7   \n1          False         False           False           False  2021      7   \n2          False         False           False           False  2021      7   \n3          False         False           False           False  2021      7   \n4          False         False           False           False  2021      7   \n\n   hour   week_day  click  \n0    19  Wednesday  False  \n1    19  Wednesday  False  \n2    19  Wednesday  False  \n3    19  Wednesday  False  \n4    19  Wednesday  False  ",
      "text/html": "<div>\n<style scoped>\n    .dataframe tbody tr th:only-of-type {\n        vertical-align: middle;\n    }\n\n    .dataframe tbody tr th {\n        vertical-align: top;\n    }\n\n    .dataframe thead th {\n        text-align: right;\n    }\n</style>\n<table border=\"1\" class=\"dataframe\">\n  <thead>\n    <tr style=\"text-align: right;\">\n      <th></th>\n      <th>uid</th>\n      <th>fc_imp_chk</th>\n      <th>fc_time_chk</th>\n      <th>utmtr</th>\n      <th>mm_dma</th>\n      <th>osName</th>\n      <th>model</th>\n      <th>hardware</th>\n      <th>site_id</th>\n      <th>tag</th>\n      <th>domain</th>\n      <th>is_sport_site</th>\n      <th>is_travel_site</th>\n      <th>is_weather_site</th>\n      <th>is_game_site</th>\n      <th>is_music_site</th>\n      <th>is_cook_site</th>\n      <th>is_health_site</th>\n      <th>is_zodiac_site</th>\n      <th>year</th>\n      <th>month</th>\n      <th>hour</th>\n      <th>week_day</th>\n      <th>click</th>\n    </tr>\n  </thead>\n  <tbody>\n    <tr>\n      <th>0</th>\n      <td>00000000-0000-0001-6268-957597321099</td>\n      <td>0</td>\n      <td>7</td>\n      <td>6</td>\n      <td>517</td>\n      <td>Android</td>\n      <td>SM-N960U</td>\n      <td>Mobile Phone</td>\n      <td>dotesports.com</td>\n      <td>vcontent</td>\n      <td>com</td>\n      <td>True</td>\n      <td>False</td>\n      <td>False</td>\n      <td>False</td>\n      <td>False</td>\n      <td>False</td>\n      <td>False</td>\n      <td>False</td>\n      <td>2021</td>\n      <td>7</td>\n      <td>19</td>\n      <td>Wednesday</td>\n      <td>False</td>\n    </tr>\n    <tr>\n      <th>1</th>\n      <td>00000000-0000-0001-6268-957946481763</td>\n      <td>0</td>\n      <td>7</td>\n      <td>6</td>\n      <td>505</td>\n      <td>Android</td>\n      <td>Pixel 4a</td>\n      <td>Mobile Phone</td>\n      <td>other</td>\n      <td>vregistration</td>\n      <td>other</td>\n      <td>False</td>\n      <td>False</td>\n      <td>False</td>\n      <td>False</td>\n      <td>False</td>\n      <td>False</td>\n      <td>False</td>\n      <td>False</td>\n      <td>2021</td>\n      <td>7</td>\n      <td>19</td>\n      <td>Wednesday</td>\n      <td>False</td>\n    </tr>\n    <tr>\n      <th>2</th>\n      <td>00000000-0000-0001-6268-958052831367</td>\n      <td>0</td>\n      <td>7</td>\n      <td>6</td>\n      <td>501</td>\n      <td>iOS</td>\n      <td>iPhone</td>\n      <td>Mobile Phone</td>\n      <td>other</td>\n      <td>vregistration</td>\n      <td>other</td>\n      <td>False</td>\n      <td>False</td>\n      <td>False</td>\n      <td>False</td>\n      <td>False</td>\n      <td>False</td>\n      <td>False</td>\n      <td>False</td>\n      <td>2021</td>\n      <td>7</td>\n      <td>19</td>\n      <td>Wednesday</td>\n      <td>False</td>\n    </tr>\n    <tr>\n      <th>3</th>\n      <td>00000000-0000-0001-6268-958153731939</td>\n      <td>0</td>\n      <td>7</td>\n      <td>6</td>\n      <td>517</td>\n      <td>Android</td>\n      <td>SM-G991U</td>\n      <td>Mobile Phone</td>\n      <td>other</td>\n      <td>vregistration</td>\n      <td>other</td>\n      <td>False</td>\n      <td>False</td>\n      <td>False</td>\n      <td>False</td>\n      <td>False</td>\n      <td>False</td>\n      <td>False</td>\n      <td>False</td>\n      <td>2021</td>\n      <td>7</td>\n      <td>19</td>\n      <td>Wednesday</td>\n      <td>False</td>\n    </tr>\n    <tr>\n      <th>4</th>\n      <td>00000000-0000-0001-6268-959263331420</td>\n      <td>0</td>\n      <td>7</td>\n      <td>6</td>\n      <td>517</td>\n      <td>Android</td>\n      <td>SM-N975U</td>\n      <td>Mobile Phone</td>\n      <td>other</td>\n      <td>vregistration</td>\n      <td>other</td>\n      <td>False</td>\n      <td>False</td>\n      <td>False</td>\n      <td>False</td>\n      <td>False</td>\n      <td>False</td>\n      <td>False</td>\n      <td>False</td>\n      <td>2021</td>\n      <td>7</td>\n      <td>19</td>\n      <td>Wednesday</td>\n      <td>False</td>\n    </tr>\n  </tbody>\n</table>\n</div>"
     },
     "execution_count": 3,
     "metadata": {},
     "output_type": "execute_result"
    }
   ],
   "source": [
    "data.head()"
   ],
   "metadata": {
    "collapsed": false
   }
  },
  {
   "cell_type": "code",
   "execution_count": 4,
   "outputs": [
    {
     "name": "stdout",
     "output_type": "stream",
     "text": [
      "<class 'pandas.core.frame.DataFrame'>\n",
      "RangeIndex: 9583 entries, 0 to 9582\n",
      "Data columns (total 24 columns):\n",
      " #   Column           Non-Null Count  Dtype \n",
      "---  ------           --------------  ----- \n",
      " 0   uid              9583 non-null   object\n",
      " 1   fc_imp_chk       9583 non-null   int64 \n",
      " 2   fc_time_chk      9583 non-null   int64 \n",
      " 3   utmtr            9583 non-null   int64 \n",
      " 4   mm_dma           9583 non-null   int64 \n",
      " 5   osName           9583 non-null   object\n",
      " 6   model            9583 non-null   object\n",
      " 7   hardware         9583 non-null   object\n",
      " 8   site_id          9583 non-null   object\n",
      " 9   tag              9583 non-null   object\n",
      " 10  domain           9583 non-null   object\n",
      " 11  is_sport_site    9583 non-null   bool  \n",
      " 12  is_travel_site   9583 non-null   bool  \n",
      " 13  is_weather_site  9583 non-null   bool  \n",
      " 14  is_game_site     9583 non-null   bool  \n",
      " 15  is_music_site    9583 non-null   bool  \n",
      " 16  is_cook_site     9583 non-null   bool  \n",
      " 17  is_health_site   9583 non-null   bool  \n",
      " 18  is_zodiac_site   9583 non-null   bool  \n",
      " 19  year             9583 non-null   int32 \n",
      " 20  month            9583 non-null   int32 \n",
      " 21  hour             9583 non-null   int32 \n",
      " 22  week_day         9583 non-null   object\n",
      " 23  click            9583 non-null   bool  \n",
      "dtypes: bool(9), int32(3), int64(4), object(8)\n",
      "memory usage: 1.1+ MB\n"
     ]
    }
   ],
   "source": [
    "data.info()"
   ],
   "metadata": {
    "collapsed": false
   }
  },
  {
   "cell_type": "code",
   "execution_count": 5,
   "outputs": [
    {
     "data": {
      "text/plain": "year\n2021    9583\nName: count, dtype: int64"
     },
     "execution_count": 5,
     "metadata": {},
     "output_type": "execute_result"
    }
   ],
   "source": [
    "data['year'].value_counts()"
   ],
   "metadata": {
    "collapsed": false
   }
  },
  {
   "cell_type": "code",
   "execution_count": 6,
   "outputs": [],
   "source": [
    "# model"
   ],
   "metadata": {
    "collapsed": false
   }
  },
  {
   "cell_type": "code",
   "execution_count": 6,
   "outputs": [],
   "source": [],
   "metadata": {
    "collapsed": false
   }
  },
  {
   "cell_type": "markdown",
   "source": [
    "Train"
   ],
   "metadata": {
    "collapsed": false
   }
  },
  {
   "cell_type": "code",
   "execution_count": 7,
   "outputs": [],
   "source": [
    "from ml.train_creator import TrainCreator\n",
    "\n",
    "train, validation = TrainCreator().transform()"
   ],
   "metadata": {
    "collapsed": false
   }
  },
  {
   "cell_type": "code",
   "execution_count": 8,
   "outputs": [
    {
     "name": "stdout",
     "output_type": "stream",
     "text": [
      "<class 'pandas.core.frame.DataFrame'>\n",
      "Index: 7666 entries, 1992 to 4633\n",
      "Data columns (total 22 columns):\n",
      " #   Column           Non-Null Count  Dtype   \n",
      "---  ------           --------------  -----   \n",
      " 0   uid              7666 non-null   object  \n",
      " 1   fc_imp_chk       7666 non-null   int64   \n",
      " 2   fc_time_chk      7666 non-null   int64   \n",
      " 3   utmtr            7666 non-null   int64   \n",
      " 4   mm_dma           7666 non-null   int64   \n",
      " 5   osName           7666 non-null   category\n",
      " 6   model            7666 non-null   category\n",
      " 7   hardware         7666 non-null   category\n",
      " 8   domain           7666 non-null   category\n",
      " 9   is_sport_site    7666 non-null   bool    \n",
      " 10  is_travel_site   7666 non-null   bool    \n",
      " 11  is_weather_site  7666 non-null   bool    \n",
      " 12  is_game_site     7666 non-null   bool    \n",
      " 13  is_music_site    7666 non-null   bool    \n",
      " 14  is_cook_site     7666 non-null   bool    \n",
      " 15  is_health_site   7666 non-null   bool    \n",
      " 16  is_zodiac_site   7666 non-null   bool    \n",
      " 17  year             7666 non-null   int32   \n",
      " 18  month            7666 non-null   int32   \n",
      " 19  hour             7666 non-null   int32   \n",
      " 20  week_day         7666 non-null   category\n",
      " 21  click            7666 non-null   bool    \n",
      "dtypes: bool(9), category(5), int32(3), int64(4), object(1)\n",
      "memory usage: 567.8+ KB\n"
     ]
    }
   ],
   "source": [
    "train.info()"
   ],
   "metadata": {
    "collapsed": false
   }
  },
  {
   "cell_type": "code",
   "execution_count": 9,
   "outputs": [
    {
     "data": {
      "text/plain": "hardware\nMobile Phone    7539\nunknown           73\nDesktop           49\nMedia Player       2\nTablet             2\nMobile+Phone       1\nName: count, dtype: int64"
     },
     "execution_count": 9,
     "metadata": {},
     "output_type": "execute_result"
    }
   ],
   "source": [
    "train['hardware'].value_counts()"
   ],
   "metadata": {
    "collapsed": false
   }
  },
  {
   "cell_type": "markdown",
   "source": [
    "LGBM"
   ],
   "metadata": {
    "collapsed": false
   }
  },
  {
   "cell_type": "code",
   "execution_count": 10,
   "outputs": [],
   "source": [
    "from ml.click_lgbm import ClickLGBM"
   ],
   "metadata": {
    "collapsed": false
   }
  },
  {
   "cell_type": "code",
   "execution_count": 12,
   "outputs": [
    {
     "data": {
      "text/plain": "0.4460574544493795"
     },
     "execution_count": 12,
     "metadata": {},
     "output_type": "execute_result"
    }
   ],
   "source": [
    "ClickLGBM().cross_val_score()"
   ],
   "metadata": {
    "collapsed": false
   }
  },
  {
   "cell_type": "code",
   "execution_count": null,
   "outputs": [],
   "source": [],
   "metadata": {
    "collapsed": false
   }
  },
  {
   "cell_type": "code",
   "execution_count": null,
   "outputs": [],
   "source": [],
   "metadata": {
    "collapsed": false
   }
  },
  {
   "cell_type": "code",
   "execution_count": null,
   "outputs": [],
   "source": [],
   "metadata": {
    "collapsed": false
   }
  },
  {
   "cell_type": "code",
   "execution_count": null,
   "outputs": [],
   "source": [],
   "metadata": {
    "collapsed": false
   }
  },
  {
   "cell_type": "code",
   "execution_count": null,
   "outputs": [],
   "source": [],
   "metadata": {
    "collapsed": false
   }
  },
  {
   "cell_type": "code",
   "execution_count": null,
   "outputs": [],
   "source": [],
   "metadata": {
    "collapsed": false
   }
  }
 ],
 "metadata": {
  "kernelspec": {
   "display_name": "Python 3",
   "language": "python",
   "name": "python3"
  },
  "language_info": {
   "codemirror_mode": {
    "name": "ipython",
    "version": 2
   },
   "file_extension": ".py",
   "mimetype": "text/x-python",
   "name": "python",
   "nbconvert_exporter": "python",
   "pygments_lexer": "ipython2",
   "version": "2.7.6"
  }
 },
 "nbformat": 4,
 "nbformat_minor": 0
}
