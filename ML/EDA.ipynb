{
 "cells": [
  {
   "cell_type": "code",
   "execution_count": 6,
   "metadata": {
    "collapsed": true
   },
   "outputs": [],
   "source": [
    "import pandas as pd"
   ]
  },
  {
   "cell_type": "code",
   "execution_count": null,
   "outputs": [],
   "source": [
    "\"\"\"На базе EDA создана функция preprocessing из скрипта preprocessing.py\"\"\""
   ],
   "metadata": {
    "collapsed": false
   }
  },
  {
   "cell_type": "code",
   "execution_count": 7,
   "outputs": [
    {
     "data": {
      "text/plain": "((955239, 10), (15359, 2))"
     },
     "execution_count": 7,
     "metadata": {},
     "output_type": "execute_result"
    }
   ],
   "source": [
    "interview_x = pd.read_csv(\"/Users/victorialokteva/Downloads/interviewdata/interview.X.csv\")\n",
    "interview_y = pd.read_csv(\"/Users/victorialokteva/Downloads/interviewdata/interview.y.csv\")\n",
    "interview_x.shape, interview_y.shape"
   ],
   "metadata": {
    "collapsed": false
   }
  },
  {
   "cell_type": "code",
   "execution_count": 8,
   "outputs": [
    {
     "data": {
      "text/plain": "              reg_time                                   uid  fc_imp_chk  \\\n0  2021-07-21 19:25:47  00000000-0000-0001-6268-955448351062           0   \n1  2021-07-21 19:25:51  00000000-0000-0001-6268-955448381600           0   \n2  2021-07-21 19:25:52  00000000-0000-0001-6268-955460621935           0   \n3  2021-07-21 19:26:05  00000000-0000-0001-6268-955631601064           0   \n4  2021-07-21 19:26:05  00000000-0000-0001-6268-955659731502           0   \n\n   fc_time_chk  utmtr  mm_dma   osName      model      hardware  \\\n0            7      6     530      iOS  iPhone XR  Mobile Phone   \n1            7      6     612      iOS     iPhone  Mobile Phone   \n2            7      6     524  Android   SM-G998U  Mobile Phone   \n3            7      6     659      iOS     iPhone  Mobile Phone   \n4            7      6     505      iOS     iPhone  Mobile Phone   \n\n                          site_id  \n0              soaps.sheknows.com  \n1                  www.forbes.com  \n2                 www.parents.com  \n3        livingforthesunshine.com  \n4  www.pro-football-reference.com  ",
      "text/html": "<div>\n<style scoped>\n    .dataframe tbody tr th:only-of-type {\n        vertical-align: middle;\n    }\n\n    .dataframe tbody tr th {\n        vertical-align: top;\n    }\n\n    .dataframe thead th {\n        text-align: right;\n    }\n</style>\n<table border=\"1\" class=\"dataframe\">\n  <thead>\n    <tr style=\"text-align: right;\">\n      <th></th>\n      <th>reg_time</th>\n      <th>uid</th>\n      <th>fc_imp_chk</th>\n      <th>fc_time_chk</th>\n      <th>utmtr</th>\n      <th>mm_dma</th>\n      <th>osName</th>\n      <th>model</th>\n      <th>hardware</th>\n      <th>site_id</th>\n    </tr>\n  </thead>\n  <tbody>\n    <tr>\n      <th>0</th>\n      <td>2021-07-21 19:25:47</td>\n      <td>00000000-0000-0001-6268-955448351062</td>\n      <td>0</td>\n      <td>7</td>\n      <td>6</td>\n      <td>530</td>\n      <td>iOS</td>\n      <td>iPhone XR</td>\n      <td>Mobile Phone</td>\n      <td>soaps.sheknows.com</td>\n    </tr>\n    <tr>\n      <th>1</th>\n      <td>2021-07-21 19:25:51</td>\n      <td>00000000-0000-0001-6268-955448381600</td>\n      <td>0</td>\n      <td>7</td>\n      <td>6</td>\n      <td>612</td>\n      <td>iOS</td>\n      <td>iPhone</td>\n      <td>Mobile Phone</td>\n      <td>www.forbes.com</td>\n    </tr>\n    <tr>\n      <th>2</th>\n      <td>2021-07-21 19:25:52</td>\n      <td>00000000-0000-0001-6268-955460621935</td>\n      <td>0</td>\n      <td>7</td>\n      <td>6</td>\n      <td>524</td>\n      <td>Android</td>\n      <td>SM-G998U</td>\n      <td>Mobile Phone</td>\n      <td>www.parents.com</td>\n    </tr>\n    <tr>\n      <th>3</th>\n      <td>2021-07-21 19:26:05</td>\n      <td>00000000-0000-0001-6268-955631601064</td>\n      <td>0</td>\n      <td>7</td>\n      <td>6</td>\n      <td>659</td>\n      <td>iOS</td>\n      <td>iPhone</td>\n      <td>Mobile Phone</td>\n      <td>livingforthesunshine.com</td>\n    </tr>\n    <tr>\n      <th>4</th>\n      <td>2021-07-21 19:26:05</td>\n      <td>00000000-0000-0001-6268-955659731502</td>\n      <td>0</td>\n      <td>7</td>\n      <td>6</td>\n      <td>505</td>\n      <td>iOS</td>\n      <td>iPhone</td>\n      <td>Mobile Phone</td>\n      <td>www.pro-football-reference.com</td>\n    </tr>\n  </tbody>\n</table>\n</div>"
     },
     "execution_count": 8,
     "metadata": {},
     "output_type": "execute_result"
    }
   ],
   "source": [
    "interview_x.head()"
   ],
   "metadata": {
    "collapsed": false
   }
  },
  {
   "cell_type": "code",
   "execution_count": 9,
   "outputs": [
    {
     "data": {
      "text/plain": "                                    uid     tag\n0  00000000-0000-0001-6268-860993461181  fclick\n1  00000000-0000-0001-6268-861002231327  fclick\n2  00000000-0000-0001-6268-861081671348  fclick\n3  00000000-0000-0001-6268-869788991321  fclick\n4  00000000-0000-0001-6268-869788451455  fclick",
      "text/html": "<div>\n<style scoped>\n    .dataframe tbody tr th:only-of-type {\n        vertical-align: middle;\n    }\n\n    .dataframe tbody tr th {\n        vertical-align: top;\n    }\n\n    .dataframe thead th {\n        text-align: right;\n    }\n</style>\n<table border=\"1\" class=\"dataframe\">\n  <thead>\n    <tr style=\"text-align: right;\">\n      <th></th>\n      <th>uid</th>\n      <th>tag</th>\n    </tr>\n  </thead>\n  <tbody>\n    <tr>\n      <th>0</th>\n      <td>00000000-0000-0001-6268-860993461181</td>\n      <td>fclick</td>\n    </tr>\n    <tr>\n      <th>1</th>\n      <td>00000000-0000-0001-6268-861002231327</td>\n      <td>fclick</td>\n    </tr>\n    <tr>\n      <th>2</th>\n      <td>00000000-0000-0001-6268-861081671348</td>\n      <td>fclick</td>\n    </tr>\n    <tr>\n      <th>3</th>\n      <td>00000000-0000-0001-6268-869788991321</td>\n      <td>fclick</td>\n    </tr>\n    <tr>\n      <th>4</th>\n      <td>00000000-0000-0001-6268-869788451455</td>\n      <td>fclick</td>\n    </tr>\n  </tbody>\n</table>\n</div>"
     },
     "execution_count": 9,
     "metadata": {},
     "output_type": "execute_result"
    }
   ],
   "source": [
    "interview_y.head()"
   ],
   "metadata": {
    "collapsed": false
   }
  },
  {
   "cell_type": "code",
   "execution_count": 10,
   "outputs": [
    {
     "name": "stdout",
     "output_type": "stream",
     "text": [
      "interview_x содержит 24 дупликатов\n",
      "interview_y содержит 2882 дупликатов\n"
     ]
    }
   ],
   "source": [
    "duplicate_count_y = interview_y.duplicated().sum()\n",
    "duplicate_count_x = interview_x.duplicated().sum()\n",
    "print(f\"interview_x содержит {duplicate_count_x} дупликатов\")\n",
    "print(f\"interview_y содержит {duplicate_count_y} дупликатов\")\n"
   ],
   "metadata": {
    "collapsed": false
   }
  },
  {
   "cell_type": "code",
   "execution_count": 11,
   "outputs": [
    {
     "name": "stdout",
     "output_type": "stream",
     "text": [
      "В колонке osName 7892  нанов\n",
      "В колонке model 8395  нанов\n",
      "В колонке hardware 8185  нанов\n"
     ]
    }
   ],
   "source": [
    "\n",
    "for col in interview_x.columns:\n",
    "    if interview_x[col].isna().sum() > 0:\n",
    "        print(f\"В колонке {col} {interview_x[col].isna().sum()}  нанов\")"
   ],
   "metadata": {
    "collapsed": false
   }
  },
  {
   "cell_type": "code",
   "execution_count": 13,
   "outputs": [
    {
     "name": "stdout",
     "output_type": "stream",
     "text": [
      "reg_time\n",
      "[<class 'str'>]\n",
      "\n",
      "uid\n",
      "[<class 'str'>]\n",
      "\n",
      "fc_imp_chk\n",
      "[<class 'int'>]\n",
      "\n",
      "fc_time_chk\n",
      "[<class 'int'>]\n",
      "\n",
      "utmtr\n",
      "[<class 'int'>]\n",
      "\n",
      "mm_dma\n",
      "[<class 'int'>]\n",
      "\n",
      "osName\n",
      "[<class 'str'> <class 'float'>]\n",
      "\n",
      "model\n",
      "[<class 'str'> <class 'float'>]\n",
      "\n",
      "hardware\n",
      "[<class 'str'> <class 'float'>]\n",
      "\n",
      "site_id\n",
      "[<class 'str'>]\n",
      "\n"
     ]
    }
   ],
   "source": [
    "# Проверим типы данных. Так как в 3 колонках есть наны, то в них появляется float\n",
    "for col in interview_x.columns:\n",
    "    print(col)\n",
    "    types_in_column = interview_x[col].apply(type)\n",
    "    print(types_in_column.unique())\n",
    "\n",
    "    print()"
   ],
   "metadata": {
    "collapsed": false
   }
  },
  {
   "cell_type": "code",
   "execution_count": 12,
   "outputs": [
    {
     "name": "stdout",
     "output_type": "stream",
     "text": [
      "True\n",
      "True\n",
      "True\n"
     ]
    }
   ],
   "source": [
    "# Проверим ли пападают ли данные некоторык колонок в диапазон, указанный в описании данных\n",
    "print(all(value in range(-1, 5) for value in interview_x['fc_imp_chk'].unique()))\n",
    "print(all(value in range(-1, 8) for value in interview_x['fc_time_chk'].unique()))\n",
    "print(all(value in range(-1, 8) for value in interview_x['utmtr'].unique()))"
   ],
   "metadata": {
    "collapsed": false
   }
  },
  {
   "cell_type": "code",
   "execution_count": 14,
   "outputs": [
    {
     "data": {
      "text/plain": "501    153869\n524     96101\n517     55164\n0       46178\n505     43400\n        ...  \n810         1\n771         1\n744         1\n813         1\n636         1\nName: mm_dma, Length: 178, dtype: int64"
     },
     "execution_count": 14,
     "metadata": {},
     "output_type": "execute_result"
    }
   ],
   "source": [
    "interview_x['mm_dma'].value_counts()\n",
    "# В колонке mm_dma есть редкие значения -- при препроцессинге объединим их в отдельную категорию -1 (так как все реальные значения неотрицательны)"
   ],
   "metadata": {
    "collapsed": false
   }
  },
  {
   "cell_type": "code",
   "execution_count": 16,
   "outputs": [
    {
     "data": {
      "text/plain": "www.lefigaro.fr        1\nrayanworld.com         1\nwww.routesnorth.com    1\nmvlehti.net            1\nwww.u-tv.ru            1\nName: site_id, dtype: int64"
     },
     "execution_count": 16,
     "metadata": {},
     "output_type": "execute_result"
    }
   ],
   "source": [
    "#Аналогичная ситуация с site_id -- есть сайты, встречающиеся всего 1 раз, тоже будем объединять такие в отдельную категорию\n",
    "interview_x['site_id'].value_counts().tail()"
   ],
   "metadata": {
    "collapsed": false
   }
  },
  {
   "cell_type": "markdown",
   "source": [],
   "metadata": {
    "collapsed": false
   }
  },
  {
   "cell_type": "code",
   "execution_count": 16,
   "outputs": [],
   "source": [],
   "metadata": {
    "collapsed": false
   }
  },
  {
   "cell_type": "code",
   "execution_count": 16,
   "outputs": [],
   "source": [],
   "metadata": {
    "collapsed": false
   }
  },
  {
   "cell_type": "code",
   "execution_count": null,
   "outputs": [],
   "source": [],
   "metadata": {
    "collapsed": false,
    "pycharm": {
     "is_executing": true
    }
   }
  },
  {
   "cell_type": "code",
   "execution_count": null,
   "outputs": [],
   "source": [],
   "metadata": {
    "collapsed": false,
    "pycharm": {
     "is_executing": true
    }
   }
  },
  {
   "cell_type": "code",
   "execution_count": 16,
   "outputs": [],
   "source": [],
   "metadata": {
    "collapsed": false
   }
  }
 ],
 "metadata": {
  "kernelspec": {
   "display_name": "Python 3",
   "language": "python",
   "name": "python3"
  },
  "language_info": {
   "codemirror_mode": {
    "name": "ipython",
    "version": 2
   },
   "file_extension": ".py",
   "mimetype": "text/x-python",
   "name": "python",
   "nbconvert_exporter": "python",
   "pygments_lexer": "ipython2",
   "version": "2.7.6"
  }
 },
 "nbformat": 4,
 "nbformat_minor": 0
}
