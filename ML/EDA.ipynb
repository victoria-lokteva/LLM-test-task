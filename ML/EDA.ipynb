{
 "cells": [
  {
   "cell_type": "code",
   "execution_count": 2,
   "metadata": {
    "collapsed": true
   },
   "outputs": [],
   "source": [
    "import pandas as pd"
   ]
  },
  {
   "cell_type": "code",
   "execution_count": 3,
   "outputs": [
    {
     "data": {
      "text/plain": "'На базе EDA создана функция preprocessing из скрипта preprocessing.py'"
     },
     "execution_count": 3,
     "metadata": {},
     "output_type": "execute_result"
    }
   ],
   "source": [
    "\"\"\"На базе EDA создана функция preprocessing из скрипта preprocessing.py\"\"\""
   ],
   "metadata": {
    "collapsed": false
   }
  },
  {
   "cell_type": "code",
   "execution_count": 4,
   "outputs": [
    {
     "data": {
      "text/plain": "((955239, 10), (15359, 2))"
     },
     "execution_count": 4,
     "metadata": {},
     "output_type": "execute_result"
    }
   ],
   "source": [
    "interview_x = pd.read_csv(\"/Users/victorialokteva/Downloads/interviewdata/interview.X.csv\")\n",
    "interview_y = pd.read_csv(\"/Users/victorialokteva/Downloads/interviewdata/interview.y.csv\")\n",
    "interview_x.shape, interview_y.shape"
   ],
   "metadata": {
    "collapsed": false
   }
  },
  {
   "cell_type": "code",
   "execution_count": 5,
   "outputs": [
    {
     "data": {
      "text/plain": "              reg_time                                   uid  fc_imp_chk  \\\n0  2021-07-21 19:25:47  00000000-0000-0001-6268-955448351062           0   \n1  2021-07-21 19:25:51  00000000-0000-0001-6268-955448381600           0   \n2  2021-07-21 19:25:52  00000000-0000-0001-6268-955460621935           0   \n3  2021-07-21 19:26:05  00000000-0000-0001-6268-955631601064           0   \n4  2021-07-21 19:26:05  00000000-0000-0001-6268-955659731502           0   \n\n   fc_time_chk  utmtr  mm_dma   osName      model      hardware  \\\n0            7      6     530      iOS  iPhone XR  Mobile Phone   \n1            7      6     612      iOS     iPhone  Mobile Phone   \n2            7      6     524  Android   SM-G998U  Mobile Phone   \n3            7      6     659      iOS     iPhone  Mobile Phone   \n4            7      6     505      iOS     iPhone  Mobile Phone   \n\n                          site_id  \n0              soaps.sheknows.com  \n1                  www.forbes.com  \n2                 www.parents.com  \n3        livingforthesunshine.com  \n4  www.pro-football-reference.com  ",
      "text/html": "<div>\n<style scoped>\n    .dataframe tbody tr th:only-of-type {\n        vertical-align: middle;\n    }\n\n    .dataframe tbody tr th {\n        vertical-align: top;\n    }\n\n    .dataframe thead th {\n        text-align: right;\n    }\n</style>\n<table border=\"1\" class=\"dataframe\">\n  <thead>\n    <tr style=\"text-align: right;\">\n      <th></th>\n      <th>reg_time</th>\n      <th>uid</th>\n      <th>fc_imp_chk</th>\n      <th>fc_time_chk</th>\n      <th>utmtr</th>\n      <th>mm_dma</th>\n      <th>osName</th>\n      <th>model</th>\n      <th>hardware</th>\n      <th>site_id</th>\n    </tr>\n  </thead>\n  <tbody>\n    <tr>\n      <th>0</th>\n      <td>2021-07-21 19:25:47</td>\n      <td>00000000-0000-0001-6268-955448351062</td>\n      <td>0</td>\n      <td>7</td>\n      <td>6</td>\n      <td>530</td>\n      <td>iOS</td>\n      <td>iPhone XR</td>\n      <td>Mobile Phone</td>\n      <td>soaps.sheknows.com</td>\n    </tr>\n    <tr>\n      <th>1</th>\n      <td>2021-07-21 19:25:51</td>\n      <td>00000000-0000-0001-6268-955448381600</td>\n      <td>0</td>\n      <td>7</td>\n      <td>6</td>\n      <td>612</td>\n      <td>iOS</td>\n      <td>iPhone</td>\n      <td>Mobile Phone</td>\n      <td>www.forbes.com</td>\n    </tr>\n    <tr>\n      <th>2</th>\n      <td>2021-07-21 19:25:52</td>\n      <td>00000000-0000-0001-6268-955460621935</td>\n      <td>0</td>\n      <td>7</td>\n      <td>6</td>\n      <td>524</td>\n      <td>Android</td>\n      <td>SM-G998U</td>\n      <td>Mobile Phone</td>\n      <td>www.parents.com</td>\n    </tr>\n    <tr>\n      <th>3</th>\n      <td>2021-07-21 19:26:05</td>\n      <td>00000000-0000-0001-6268-955631601064</td>\n      <td>0</td>\n      <td>7</td>\n      <td>6</td>\n      <td>659</td>\n      <td>iOS</td>\n      <td>iPhone</td>\n      <td>Mobile Phone</td>\n      <td>livingforthesunshine.com</td>\n    </tr>\n    <tr>\n      <th>4</th>\n      <td>2021-07-21 19:26:05</td>\n      <td>00000000-0000-0001-6268-955659731502</td>\n      <td>0</td>\n      <td>7</td>\n      <td>6</td>\n      <td>505</td>\n      <td>iOS</td>\n      <td>iPhone</td>\n      <td>Mobile Phone</td>\n      <td>www.pro-football-reference.com</td>\n    </tr>\n  </tbody>\n</table>\n</div>"
     },
     "execution_count": 5,
     "metadata": {},
     "output_type": "execute_result"
    }
   ],
   "source": [
    "interview_x.head()"
   ],
   "metadata": {
    "collapsed": false
   }
  },
  {
   "cell_type": "code",
   "execution_count": 6,
   "outputs": [
    {
     "data": {
      "text/plain": "                                    uid     tag\n0  00000000-0000-0001-6268-860993461181  fclick\n1  00000000-0000-0001-6268-861002231327  fclick\n2  00000000-0000-0001-6268-861081671348  fclick\n3  00000000-0000-0001-6268-869788991321  fclick\n4  00000000-0000-0001-6268-869788451455  fclick",
      "text/html": "<div>\n<style scoped>\n    .dataframe tbody tr th:only-of-type {\n        vertical-align: middle;\n    }\n\n    .dataframe tbody tr th {\n        vertical-align: top;\n    }\n\n    .dataframe thead th {\n        text-align: right;\n    }\n</style>\n<table border=\"1\" class=\"dataframe\">\n  <thead>\n    <tr style=\"text-align: right;\">\n      <th></th>\n      <th>uid</th>\n      <th>tag</th>\n    </tr>\n  </thead>\n  <tbody>\n    <tr>\n      <th>0</th>\n      <td>00000000-0000-0001-6268-860993461181</td>\n      <td>fclick</td>\n    </tr>\n    <tr>\n      <th>1</th>\n      <td>00000000-0000-0001-6268-861002231327</td>\n      <td>fclick</td>\n    </tr>\n    <tr>\n      <th>2</th>\n      <td>00000000-0000-0001-6268-861081671348</td>\n      <td>fclick</td>\n    </tr>\n    <tr>\n      <th>3</th>\n      <td>00000000-0000-0001-6268-869788991321</td>\n      <td>fclick</td>\n    </tr>\n    <tr>\n      <th>4</th>\n      <td>00000000-0000-0001-6268-869788451455</td>\n      <td>fclick</td>\n    </tr>\n  </tbody>\n</table>\n</div>"
     },
     "execution_count": 6,
     "metadata": {},
     "output_type": "execute_result"
    }
   ],
   "source": [
    "interview_y.head()"
   ],
   "metadata": {
    "collapsed": false
   }
  },
  {
   "cell_type": "code",
   "execution_count": 7,
   "outputs": [
    {
     "name": "stdout",
     "output_type": "stream",
     "text": [
      "interview_x содержит 24 дупликатов\n",
      "interview_y содержит 2882 дупликатов\n"
     ]
    }
   ],
   "source": [
    "duplicate_count_y = interview_y.duplicated().sum()\n",
    "duplicate_count_x = interview_x.duplicated().sum()\n",
    "print(f\"interview_x содержит {duplicate_count_x} дупликатов\")\n",
    "print(f\"interview_y содержит {duplicate_count_y} дупликатов\")\n"
   ],
   "metadata": {
    "collapsed": false
   }
  },
  {
   "cell_type": "code",
   "execution_count": 8,
   "outputs": [
    {
     "name": "stdout",
     "output_type": "stream",
     "text": [
      "В колонке osName 7892  нанов\n",
      "В колонке model 8395  нанов\n",
      "В колонке hardware 8185  нанов\n"
     ]
    }
   ],
   "source": [
    "\n",
    "for col in interview_x.columns:\n",
    "    if interview_x[col].isna().sum() > 0:\n",
    "        print(f\"В колонке {col} {interview_x[col].isna().sum()}  нанов\")"
   ],
   "metadata": {
    "collapsed": false
   }
  },
  {
   "cell_type": "code",
   "execution_count": 9,
   "outputs": [
    {
     "name": "stdout",
     "output_type": "stream",
     "text": [
      "reg_time\n",
      "[<class 'str'>]\n",
      "\n",
      "uid\n",
      "[<class 'str'>]\n",
      "\n",
      "fc_imp_chk\n",
      "[<class 'int'>]\n",
      "\n",
      "fc_time_chk\n",
      "[<class 'int'>]\n",
      "\n",
      "utmtr\n",
      "[<class 'int'>]\n",
      "\n",
      "mm_dma\n",
      "[<class 'int'>]\n",
      "\n",
      "osName\n",
      "[<class 'str'> <class 'float'>]\n",
      "\n",
      "model\n",
      "[<class 'str'> <class 'float'>]\n",
      "\n",
      "hardware\n",
      "[<class 'str'> <class 'float'>]\n",
      "\n",
      "site_id\n",
      "[<class 'str'>]\n",
      "\n"
     ]
    }
   ],
   "source": [
    "# Проверим типы данных. Так как в 3 колонках есть наны, то в них появляется float\n",
    "for col in interview_x.columns:\n",
    "    print(col)\n",
    "    types_in_column = interview_x[col].apply(type)\n",
    "    print(types_in_column.unique())\n",
    "\n",
    "    print()"
   ],
   "metadata": {
    "collapsed": false
   }
  },
  {
   "cell_type": "code",
   "execution_count": 10,
   "outputs": [
    {
     "name": "stdout",
     "output_type": "stream",
     "text": [
      "True\n",
      "True\n",
      "True\n"
     ]
    }
   ],
   "source": [
    "# Проверим ли пападают ли данные некоторык колонок в диапазон, указанный в описании данных\n",
    "print(all(value in range(-1, 5) for value in interview_x['fc_imp_chk'].unique()))\n",
    "print(all(value in range(-1, 8) for value in interview_x['fc_time_chk'].unique()))\n",
    "print(all(value in range(-1, 8) for value in interview_x['utmtr'].unique()))"
   ],
   "metadata": {
    "collapsed": false
   }
  },
  {
   "cell_type": "code",
   "execution_count": 11,
   "outputs": [
    {
     "data": {
      "text/plain": "501    153869\n524     96101\n517     55164\n0       46178\n505     43400\n        ...  \n810         1\n771         1\n744         1\n813         1\n636         1\nName: mm_dma, Length: 178, dtype: int64"
     },
     "execution_count": 11,
     "metadata": {},
     "output_type": "execute_result"
    }
   ],
   "source": [
    "interview_x['mm_dma'].value_counts()\n",
    "# В колонке mm_dma есть редкие значения -- при препроцессинге объединим их в отдельную категорию -1 (так как все реальные значения неотрицательны)"
   ],
   "metadata": {
    "collapsed": false
   }
  },
  {
   "cell_type": "code",
   "execution_count": 12,
   "outputs": [
    {
     "data": {
      "text/plain": "www.lefigaro.fr        1\nrayanworld.com         1\nwww.routesnorth.com    1\nmvlehti.net            1\nwww.u-tv.ru            1\nName: site_id, dtype: int64"
     },
     "execution_count": 12,
     "metadata": {},
     "output_type": "execute_result"
    }
   ],
   "source": [
    "#Аналогичная ситуация с site_id -- есть сайты, встречающиеся всего 1 раз, тоже будем объединять такие в отдельную категорию\n",
    "interview_x['site_id'].value_counts().tail()"
   ],
   "metadata": {
    "collapsed": false
   }
  },
  {
   "cell_type": "markdown",
   "source": [],
   "metadata": {
    "collapsed": false
   }
  },
  {
   "cell_type": "code",
   "execution_count": 12,
   "outputs": [],
   "source": [],
   "metadata": {
    "collapsed": false
   }
  },
  {
   "cell_type": "code",
   "execution_count": 13,
   "outputs": [
    {
     "data": {
      "text/plain": "Mobile Phone                946415\nMedia Player                   396\nDesktop                        208\nRefrigerator                    15\nMobile+Phone                     8\nTablet                           6\nData Collection Terminal         5\nDigital Home Assistant           1\nName: hardware, dtype: int64"
     },
     "execution_count": 13,
     "metadata": {},
     "output_type": "execute_result"
    }
   ],
   "source": [
    "interview_x['hardware'].value_counts()"
   ],
   "metadata": {
    "collapsed": false
   }
  },
  {
   "cell_type": "code",
   "execution_count": 14,
   "outputs": [
    {
     "data": {
      "text/plain": "www.dailymotion.com    150709\nwhatculture.com        102378\nnypost.com              74063\nwww.digitalspy.com      28385\nwww.yahoo.com           19036\n                        ...  \nwww.lefigaro.fr             1\nrayanworld.com              1\nwww.routesnorth.com         1\nmvlehti.net                 1\nwww.u-tv.ru                 1\nName: site_id, Length: 11290, dtype: int64"
     },
     "execution_count": 14,
     "metadata": {},
     "output_type": "execute_result"
    }
   ],
   "source": [
    "interview_x['site_id'].value_counts()"
   ],
   "metadata": {
    "collapsed": false
   }
  },
  {
   "cell_type": "code",
   "execution_count": 172,
   "outputs": [],
   "source": [
    "interview_x['site_id'] = interview_x['site_id'].map(lambda x: x.replace(\"www1.\", \"\").replace(\"www.\", \"\").replace(\"co.uk\", \"co_uk\"))\n",
    "\n",
    "interview_x['len'] = interview_x['site_id'].map(lambda x: len(x.split(\".\")))\n",
    "interview_x['first_word'] = interview_x['site_id'].map(lambda x: x.split(\".\")[0])\n",
    "\n",
    "interview_x['sport_cat'] = (interview_x['site_id'].str.contains('sport')\n",
    "                            | interview_x['site_id'].str.contains('baseball')\n",
    "                            | interview_x['site_id'].str.contains('football')\n",
    "                            | interview_x['site_id'].str.contains('soccer')\n",
    "                            | interview_x['site_id'].str.contains('basketball')\n",
    "                            | interview_x['site_id'].str.contains('hockey')\n",
    "                            | interview_x['site_id'].str.contains('moneyball')\n",
    "                            | interview_x['site_id'].str.contains('rotowire')\n",
    "                            | interview_x['site_id'].str.contains('mmafighting')\n",
    "                            | interview_x['site_id'].str.contains('mmamania')\n",
    "                            | interview_x['site_id'].str.contains('nbaanalysis')\n",
    "                            | interview_x['site_id'].str.contains('nba-trade-rumors')\n",
    "                            | interview_x['site_id'].str.contains('nfltraderumors')\n",
    "                            | interview_x['site_id'].str.contains('nfldraftdiamonds')\n",
    "                            | interview_x['site_id'].str.contains('detroitbadboys.com') #?\n",
    "                            | interview_x['site_id'].str.contains('volleyball'))\n",
    "\n",
    "interview_x['travel_cat'] = (interview_x['site_id'].str.contains('travel')\n",
    "                             | interview_x['site_id'].str.contains('tourist'))\n",
    "interview_x['weather_cat'] = (interview_x['site_id'].str.contains('weather'))\n",
    "interview_x['game_cat'] = (interview_x['site_id'].str.contains('game'))\n",
    "interview_x['music_cat'] = (interview_x['site_id'].str.contains('music')\n",
    "                            | interview_x['site_id'].str.contains('hip-hop')\n",
    "                            | interview_x['site_id'].str.contains('song') # ?\n",
    "                            | interview_x['site_id'].str.contains('guitar'))\n",
    "\n",
    "interview_x['cook_cat'] = (interview_x['site_id'].str.contains('cook')\n",
    "                           | interview_x['site_id'].str.contains('diet')\n",
    "                           | interview_x['site_id'].str.contains('fastfood')\n",
    "                           | interview_x['site_id'].str.contains('cupcake')  # javacupcake.com\n",
    "                           | interview_x['site_id'].str.contains('grandbaby-cakes')\n",
    "                           | interview_x['site_id'].str.contains('browneyedbaker')  # baker?\n",
    "                           | interview_x['site_id'].str.contains('baking')\n",
    "                           | interview_x['site_id'].str.contains('lovebakesgoodcakes')\n",
    "                           | interview_x['site_id'].str.contains('bakery'))\n",
    "\n",
    "interview_x['health_cat'] = (interview_x['site_id'].str.contains('health')\n",
    "                             | interview_x['site_id'].str.contains('medical'))\n",
    "\n",
    "interview_x['zodiac_cat'] = (interview_x['site_id'].str.contains('astrology')\n",
    "                             | interview_x['site_id'].str.contains('zodiac'))\n",
    "\n",
    "interview_x['no_cat'] = ((~interview_x['sport_cat'])\n",
    "                         & (~interview_x['travel_cat'])\n",
    "                         & (~interview_x['health_cat'])\n",
    "                         & (~interview_x['game_cat'])\n",
    "                         & (~interview_x['music_cat'])\n",
    "                         & (~interview_x['cook_cat'])\n",
    "                         & (~interview_x['zodiac_cat'])\n",
    "                         & (~interview_x['weather_cat']))"
   ],
   "metadata": {
    "collapsed": false
   }
  },
  {
   "cell_type": "code",
   "execution_count": 173,
   "outputs": [
    {
     "data": {
      "text/plain": "(902941,)"
     },
     "execution_count": 173,
     "metadata": {},
     "output_type": "execute_result"
    }
   ],
   "source": [
    "interview_x.loc[interview_x['no_cat'], 'site_id'].shape"
   ],
   "metadata": {
    "collapsed": false
   }
  },
  {
   "cell_type": "code",
   "execution_count": 174,
   "outputs": [
    {
     "data": {
      "text/plain": "dailymotion.com            150709\nwhatculture.com            102378\nnypost.com                  74063\ndigitalspy.com              28385\nyahoo.com                   19169\n                            ...  \nlovetextmessages.com.ng         1\nbronx.news12.com                1\nlondon.eater.com                1\nloveleafco.com                  1\nu-tv.ru                         1\nName: site_id, Length: 10272, dtype: int64"
     },
     "execution_count": 174,
     "metadata": {},
     "output_type": "execute_result"
    }
   ],
   "source": [
    "interview_x.loc[interview_x['no_cat'], 'site_id'].value_counts()"
   ],
   "metadata": {
    "collapsed": false
   }
  },
  {
   "cell_type": "code",
   "execution_count": 175,
   "outputs": [
    {
     "data": {
      "text/plain": "my                        15926\nfinance                   12534\nnews                       7427\ncurrently                  7228\nmetropcs                   7136\n                          ...  \nbbs                           1\noverlordmaruyama              1\nbrasil                        1\nmedia                         1\nestrenos-series-espana        1\nName: first_word, Length: 1043, dtype: int64"
     },
     "execution_count": 175,
     "metadata": {},
     "output_type": "execute_result"
    }
   ],
   "source": [
    "interview_x.loc[interview_x['len'] > 2, 'first_word'].value_counts()"
   ],
   "metadata": {
    "collapsed": false
   }
  },
  {
   "cell_type": "code",
   "execution_count": 177,
   "outputs": [
    {
     "data": {
      "text/plain": "insanelygoodrecipes.com         1292\nallrecipes.com                   796\ntherecipecritic.com              244\nletsdishrecipes.com              233\nthereciperebel.com               200\n                                ... \nrobustrecipes.com                  1\nmyrecipetreasures.com              1\nrecipeswithessentialoils.com       1\nnorecipes.com                      1\ntherecipewell.com                  1\nName: site_id, Length: 108, dtype: int64"
     },
     "execution_count": 177,
     "metadata": {},
     "output_type": "execute_result"
    }
   ],
   "source": [
    "interview_x.loc[interview_x['no_cat']\n",
    "                & interview_x['site_id'].str.contains('recipe')]['site_id'].value_counts()"
   ],
   "metadata": {
    "collapsed": false
   }
  },
  {
   "cell_type": "code",
   "execution_count": 190,
   "outputs": [
    {
     "ename": "AttributeError",
     "evalue": "'str' object has no attribute 'year'",
     "output_type": "error",
     "traceback": [
      "\u001B[0;31m---------------------------------------------------------------------------\u001B[0m",
      "\u001B[0;31mAttributeError\u001B[0m                            Traceback (most recent call last)",
      "Cell \u001B[0;32mIn [190], line 1\u001B[0m\n\u001B[0;32m----> 1\u001B[0m interview_x[\u001B[38;5;124m'\u001B[39m\u001B[38;5;124mreg_time\u001B[39m\u001B[38;5;124m'\u001B[39m]\u001B[38;5;241m.\u001B[39mmap(\u001B[38;5;28;01mlambda\u001B[39;00m x: x\u001B[38;5;241m.\u001B[39myear)\n",
      "File \u001B[0;32m/Library/Frameworks/Python.framework/Versions/3.10/lib/python3.10/site-packages/pandas/core/series.py:4542\u001B[0m, in \u001B[0;36mSeries.map\u001B[0;34m(self, arg, na_action)\u001B[0m\n\u001B[1;32m   4463\u001B[0m \u001B[38;5;28;01mdef\u001B[39;00m \u001B[38;5;21mmap\u001B[39m(\n\u001B[1;32m   4464\u001B[0m     \u001B[38;5;28mself\u001B[39m,\n\u001B[1;32m   4465\u001B[0m     arg: Callable \u001B[38;5;241m|\u001B[39m Mapping \u001B[38;5;241m|\u001B[39m Series,\n\u001B[1;32m   4466\u001B[0m     na_action: Literal[\u001B[38;5;124m\"\u001B[39m\u001B[38;5;124mignore\u001B[39m\u001B[38;5;124m\"\u001B[39m] \u001B[38;5;241m|\u001B[39m \u001B[38;5;28;01mNone\u001B[39;00m \u001B[38;5;241m=\u001B[39m \u001B[38;5;28;01mNone\u001B[39;00m,\n\u001B[1;32m   4467\u001B[0m ) \u001B[38;5;241m-\u001B[39m\u001B[38;5;241m>\u001B[39m Series:\n\u001B[1;32m   4468\u001B[0m     \u001B[38;5;124;03m\"\"\"\u001B[39;00m\n\u001B[1;32m   4469\u001B[0m \u001B[38;5;124;03m    Map values of Series according to an input mapping or function.\u001B[39;00m\n\u001B[1;32m   4470\u001B[0m \n\u001B[0;32m   (...)\u001B[0m\n\u001B[1;32m   4540\u001B[0m \u001B[38;5;124;03m    dtype: object\u001B[39;00m\n\u001B[1;32m   4541\u001B[0m \u001B[38;5;124;03m    \"\"\"\u001B[39;00m\n\u001B[0;32m-> 4542\u001B[0m     new_values \u001B[38;5;241m=\u001B[39m \u001B[38;5;28;43mself\u001B[39;49m\u001B[38;5;241;43m.\u001B[39;49m\u001B[43m_map_values\u001B[49m\u001B[43m(\u001B[49m\u001B[43marg\u001B[49m\u001B[43m,\u001B[49m\u001B[43m \u001B[49m\u001B[43mna_action\u001B[49m\u001B[38;5;241;43m=\u001B[39;49m\u001B[43mna_action\u001B[49m\u001B[43m)\u001B[49m\n\u001B[1;32m   4543\u001B[0m     \u001B[38;5;28;01mreturn\u001B[39;00m \u001B[38;5;28mself\u001B[39m\u001B[38;5;241m.\u001B[39m_constructor(new_values, index\u001B[38;5;241m=\u001B[39m\u001B[38;5;28mself\u001B[39m\u001B[38;5;241m.\u001B[39mindex)\u001B[38;5;241m.\u001B[39m__finalize__(\n\u001B[1;32m   4544\u001B[0m         \u001B[38;5;28mself\u001B[39m, method\u001B[38;5;241m=\u001B[39m\u001B[38;5;124m\"\u001B[39m\u001B[38;5;124mmap\u001B[39m\u001B[38;5;124m\"\u001B[39m\n\u001B[1;32m   4545\u001B[0m     )\n",
      "File \u001B[0;32m/Library/Frameworks/Python.framework/Versions/3.10/lib/python3.10/site-packages/pandas/core/base.py:890\u001B[0m, in \u001B[0;36mIndexOpsMixin._map_values\u001B[0;34m(self, mapper, na_action)\u001B[0m\n\u001B[1;32m    887\u001B[0m         \u001B[38;5;28;01mraise\u001B[39;00m \u001B[38;5;167;01mValueError\u001B[39;00m(msg)\n\u001B[1;32m    889\u001B[0m \u001B[38;5;66;03m# mapper is a function\u001B[39;00m\n\u001B[0;32m--> 890\u001B[0m new_values \u001B[38;5;241m=\u001B[39m \u001B[43mmap_f\u001B[49m\u001B[43m(\u001B[49m\u001B[43mvalues\u001B[49m\u001B[43m,\u001B[49m\u001B[43m \u001B[49m\u001B[43mmapper\u001B[49m\u001B[43m)\u001B[49m\n\u001B[1;32m    892\u001B[0m \u001B[38;5;28;01mreturn\u001B[39;00m new_values\n",
      "File \u001B[0;32m/Library/Frameworks/Python.framework/Versions/3.10/lib/python3.10/site-packages/pandas/_libs/lib.pyx:2919\u001B[0m, in \u001B[0;36mpandas._libs.lib.map_infer\u001B[0;34m()\u001B[0m\n",
      "Cell \u001B[0;32mIn [190], line 1\u001B[0m, in \u001B[0;36m<lambda>\u001B[0;34m(x)\u001B[0m\n\u001B[0;32m----> 1\u001B[0m interview_x[\u001B[38;5;124m'\u001B[39m\u001B[38;5;124mreg_time\u001B[39m\u001B[38;5;124m'\u001B[39m]\u001B[38;5;241m.\u001B[39mmap(\u001B[38;5;28;01mlambda\u001B[39;00m x: \u001B[43mx\u001B[49m\u001B[38;5;241;43m.\u001B[39;49m\u001B[43myear\u001B[49m)\n",
      "\u001B[0;31mAttributeError\u001B[0m: 'str' object has no attribute 'year'"
     ]
    }
   ],
   "source": [
    "interview_x['reg_time'].map(lambda x: x.year)"
   ],
   "metadata": {
    "collapsed": false
   }
  },
  {
   "cell_type": "code",
   "execution_count": 13,
   "outputs": [],
   "source": [],
   "metadata": {
    "collapsed": false
   }
  },
  {
   "cell_type": "code",
   "execution_count": 186,
   "outputs": [
    {
     "data": {
      "text/plain": "0         com\n1         com\n2         com\n3         com\n4         com\n         ... \n955234    com\n955235    com\n955236    com\n955237    com\n955238    com\nName: site_id, Length: 955239, dtype: object"
     },
     "execution_count": 186,
     "metadata": {},
     "output_type": "execute_result"
    }
   ],
   "source": [
    "interview_x['domain'] = interview_x['site_id'].map(lambda x:  x.split('.')[-1])"
   ],
   "metadata": {
    "collapsed": false
   }
  },
  {
   "cell_type": "code",
   "execution_count": 182,
   "outputs": [
    {
     "data": {
      "text/plain": "0                [soaps, sheknows, com]\n1                         [forbes, com]\n2                        [parents, com]\n3           [livingforthesunshine, com]\n4         [pro-football-reference, com]\n                      ...              \n955234               [forsythnews, com]\n955235     [currently, att, yahoo, com]\n955236                  [ladbible, com]\n955237                  [ladbible, com]\n955238                  [ladbible, com]\nName: site_id, Length: 955239, dtype: object"
     },
     "execution_count": 182,
     "metadata": {},
     "output_type": "execute_result"
    }
   ],
   "source": [
    "interview_x['site_id'].str.split('.')"
   ],
   "metadata": {
    "collapsed": false
   }
  },
  {
   "cell_type": "code",
   "execution_count": null,
   "outputs": [],
   "source": [
    "# amp."
   ],
   "metadata": {
    "collapsed": false
   }
  }
 ],
 "metadata": {
  "kernelspec": {
   "display_name": "Python 3",
   "language": "python",
   "name": "python3"
  },
  "language_info": {
   "codemirror_mode": {
    "name": "ipython",
    "version": 2
   },
   "file_extension": ".py",
   "mimetype": "text/x-python",
   "name": "python",
   "nbconvert_exporter": "python",
   "pygments_lexer": "ipython2",
   "version": "2.7.6"
  }
 },
 "nbformat": 4,
 "nbformat_minor": 0
}
